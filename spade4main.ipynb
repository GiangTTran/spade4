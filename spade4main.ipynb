{
 "cells": [
  {
   "cell_type": "code",
   "execution_count": 1,
   "metadata": {},
   "outputs": [],
   "source": [
    "import torch\n",
    "import numpy as np\n",
    "from scipy.integrate import odeint, solve_ivp\n",
    "from scipy.optimize import curve_fit\n",
    "import matplotlib.pyplot as plt\n",
    "from mpl_toolkits.mplot3d import Axes3D\n",
    "from numpy import matlib\n",
    "import pandas as pd\n",
    "\n",
    "from dictionary import *\n",
    "from utils import *\n",
    "from main import *\n",
    "from benchmark_models import *\n",
    "from compartment_models import *\n"
   ]
  },
  {
   "cell_type": "code",
   "execution_count": 2,
   "metadata": {},
   "outputs": [],
   "source": [
    "np.random.seed(3)"
   ]
  },
  {
   "cell_type": "code",
   "execution_count": 3,
   "metadata": {},
   "outputs": [],
   "source": [
    "#Parameters\n",
    "d = 4 # Dimension of the state space\n",
    "\n",
    "# Tfinal and timesteps\n",
    "Tfinal = 180.0\n",
    "dt_fine = 0.01\n",
    "timesteps_fine = int(Tfinal/dt_fine)\n",
    "\n",
    "days = 100\n",
    "dt = 1.0\n",
    "timesteps = int(Tfinal/dt)\n",
    "train_ratio_vec = [0.3,0.54,0.7]"
   ]
  },
  {
   "cell_type": "code",
   "execution_count": 4,
   "metadata": {},
   "outputs": [
    {
     "name": "stdout",
     "output_type": "stream",
     "text": [
      "the size of solution is (180, 4)\n"
     ]
    }
   ],
   "source": [
    "'''Description: Solve the ODE to build the input data'''\n",
    "\n",
    "# Reference: https://cs.uwaterloo.ca/~paforsyt/SEIR.html\n",
    "x0 = np.zeros(4)\n",
    "x0[2] = 1 #I\n",
    "x0[1] = 0 #E \n",
    "x0[0] = 10**6  #S\n",
    "x0[3] = 0  #R\n",
    "\n",
    "P = np.sum(x0)  # N = total population\n",
    "\n",
    "y0_mu = x0/P\n",
    "\n",
    "sigma_true = 1/4 \n",
    "gamma_true = 1/14 \n",
    "beta_true = 3/14 \n",
    "mu_true = 0.75\n",
    "tspan_fine = np.linspace(0,Tfinal,timesteps_fine+1) #Tfinal = 180\n",
    "\n",
    "\n",
    "solMu_clean_fine = odeint(seirMu_function, y0_mu, tspan_fine, args=(beta_true,sigma_true,gamma_true,mu_true), tfirst = True)# sol is (timesteps by d)\n",
    "solMu_clean = solMu_clean_fine[0:-1:days,:]\n",
    "\n",
    "print('the size of solution is',solMu_clean.shape)"
   ]
  },
  {
   "cell_type": "code",
   "execution_count": 5,
   "metadata": {},
   "outputs": [],
   "source": [
    "'''Description: Create output data'''\n",
    "obs_var = 2\n",
    "\n",
    "#add noise\n",
    "eta = 0.05\n",
    "noiseType = '1'\n",
    "I_noisy = noisy_data(solMu_clean[:,2],eta,timesteps,noiseType) #dimension is (timesteps,)\n",
    "\n",
    "#take 7-day avg\n",
    "window = 7\n",
    "I_data =rolling_avg(I_noisy,window)\n",
    "I = I_data\n",
    "\n",
    "\n",
    "#smooth the derivative: Method 1 (convolution filter)\n",
    "dIdt = time_derivative(I.reshape(-1,1),dt,type = 2)\n",
    "noise_smooth = eta\n",
    "smooth_type = 'conv'\n",
    "smooth_par = 15\n",
    "dIdt_smooth = smooth(dIdt.squeeze(), smooth_par, noise_smooth)\n",
    "\n",
    "\n"
   ]
  },
  {
   "cell_type": "code",
   "execution_count": 6,
   "metadata": {},
   "outputs": [
    {
     "data": {
      "image/png": "[encoded data removed]",
      "text/plain": [
       "<Figure size 216x216 with 1 Axes>"
      ]
     },
     "metadata": {
      "needs_background": "light"
     },
     "output_type": "display_data"
    }
   ],
   "source": [
    "z = np.linspace(np.min(solMu_clean[:,2]),np.max(solMu_clean[:,2]),timesteps)\n",
    "fig1 = plt.figure(figsize=(3,3))\n",
    "for i in np.arange(0,len(train_ratio_vec)):\n",
    "    y = int(train_ratio_vec[i]*Tfinal)*np.ones(timesteps)\n",
    "    plt.plot(solMu_clean[:,2],'k')\n",
    "    plt.plot(y,z,'r--')\n",
    "# plt.legend()"
   ]
  },
  {
   "cell_type": "code",
   "execution_count": 7,
   "metadata": {},
   "outputs": [
    {
     "name": "stdout",
     "output_type": "stream",
     "text": [
      "[0.3, 0.4]\n",
      "0\n"
     ]
    },
    {
     "name": "stderr",
     "output_type": "stream",
     "text": [
      "/opt/anaconda3/lib/python3.7/site-packages/sklearn/linear_model/_coordinate_descent.py:532: ConvergenceWarning: Objective did not converge. You might want to increase the number of iterations. Duality gap: 1.630853046804453e-07, tolerance: 9.461219356163277e-11\n",
      "  positive)\n",
      "/opt/anaconda3/lib/python3.7/site-packages/sklearn/linear_model/_coordinate_descent.py:532: ConvergenceWarning: Objective did not converge. You might want to increase the number of iterations. Duality gap: 7.451214700252924e-10, tolerance: 9.461219356163277e-11\n",
      "  positive)\n",
      "/opt/anaconda3/lib/python3.7/site-packages/sklearn/linear_model/_coordinate_descent.py:532: ConvergenceWarning: Objective did not converge. You might want to increase the number of iterations. Duality gap: 1.05229485928846e-06, tolerance: 9.461219356163277e-11\n",
      "  positive)\n"
     ]
    },
    {
     "name": "stdout",
     "output_type": "stream",
     "text": [
      "1\n"
     ]
    },
    {
     "name": "stderr",
     "output_type": "stream",
     "text": [
      "/opt/anaconda3/lib/python3.7/site-packages/sklearn/linear_model/_coordinate_descent.py:532: ConvergenceWarning: Objective did not converge. You might want to increase the number of iterations. Duality gap: 2.466218637935662e-07, tolerance: 3.4281570341749994e-10\n",
      "  positive)\n",
      "/opt/anaconda3/lib/python3.7/site-packages/sklearn/linear_model/_coordinate_descent.py:532: ConvergenceWarning: Objective did not converge. You might want to increase the number of iterations. Duality gap: 5.562025725084123e-09, tolerance: 3.4281570341749994e-10\n",
      "  positive)\n",
      "/opt/anaconda3/lib/python3.7/site-packages/sklearn/linear_model/_coordinate_descent.py:532: ConvergenceWarning: Objective did not converge. You might want to increase the number of iterations. Duality gap: 9.78074257980772e-07, tolerance: 3.4281570341749994e-10\n",
      "  positive)\n"
     ]
    }
   ],
   "source": [
    "out_mat = spade4(I_data,dIdt_smooth,train_ratio_vec,d,timesteps)"
   ]
  },
  {
   "cell_type": "code",
   "execution_count": 8,
   "metadata": {},
   "outputs": [
    {
     "data": {
      "image/png": "[encoded data removed]",
      "text/plain": [
       "<Figure size 288x288 with 1 Axes>"
      ]
     },
     "metadata": {
      "needs_background": "light"
     },
     "output_type": "display_data"
    }
   ],
   "source": [
    "thickness = 2.5\n",
    "val_window = 7\n",
    "plt.figure(figsize=(4,4))\n",
    "for i in np.arange(0,len(train_ratio_vec)):\n",
    "    plt.plot(range(int(train_ratio_vec[i]*(timesteps)),\n",
    "                   int(train_ratio_vec[i]*(timesteps))+val_window),out_mat[:,i],'b') #,label = 'Ours',linewidth=thickness)\n",
    "\n",
    "plt.plot(range(int(train_ratio_vec[0]*(timesteps)),int(train_ratio_vec[-1]*(timesteps))+val_window),\n",
    "         I[int(train_ratio_vec[0]*(timesteps)):int(train_ratio_vec[-1]*(timesteps))+val_window]\n",
    "         ,'k',label = 'True',linewidth=thickness)\n",
    "plt.legend()\n",
    "plt.tick_params(labelsize = 18)\n",
    "plt.xlabel('Days',fontsize=18)\n",
    "plt.ylabel('Active Cases',fontsize=18)\n",
    "plt.show()"
   ]
  }
 ],
 "metadata": {
  "kernelspec": {
   "display_name": "Python 3",
   "language": "python",
   "name": "python3"
  },
  "language_info": {
   "codemirror_mode": {
    "name": "ipython",
    "version": 3
   },
   "file_extension": ".py",
   "mimetype": "text/x-python",
   "name": "python",
   "nbconvert_exporter": "python",
   "pygments_lexer": "ipython3",
   "version": "3.7.6"
  }
 },
 "nbformat": 4,
 "nbformat_minor": 4
}
